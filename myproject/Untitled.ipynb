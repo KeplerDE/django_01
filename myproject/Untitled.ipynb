{
 "cells": [
  {
   "cell_type": "code",
   "execution_count": 4,
   "id": "0bae96e2",
   "metadata": {},
   "outputs": [],
   "source": [
    "import os\n",
    "import django\n",
    "from django.db import models"
   ]
  },
  {
   "cell_type": "code",
   "execution_count": 5,
   "id": "8607f834",
   "metadata": {},
   "outputs": [
    {
     "ename": "NameError",
     "evalue": "name 'Blog' is not defined",
     "output_type": "error",
     "traceback": [
      "\u001b[1;31m---------------------------------------------------------------------------\u001b[0m",
      "\u001b[1;31mNameError\u001b[0m                                 Traceback (most recent call last)",
      "Input \u001b[1;32mIn [5]\u001b[0m, in \u001b[0;36m<cell line: 1>\u001b[1;34m()\u001b[0m\n\u001b[1;32m----> 1\u001b[0m nw \u001b[38;5;241m=\u001b[39m \u001b[38;5;28mlist\u001b[39m(\u001b[43mBlog\u001b[49m\u001b[38;5;241m.\u001b[39mobjects\u001b[38;5;241m.\u001b[39mall())\n",
      "\u001b[1;31mNameError\u001b[0m: name 'Blog' is not defined"
     ]
    }
   ],
   "source": [
    "nw = list(Blog.objects.all())\n"
   ]
  },
  {
   "cell_type": "code",
   "execution_count": 6,
   "id": "15aaeb02",
   "metadata": {},
   "outputs": [
    {
     "ename": "NameError",
     "evalue": "name 'nw' is not defined",
     "output_type": "error",
     "traceback": [
      "\u001b[1;31m---------------------------------------------------------------------------\u001b[0m",
      "\u001b[1;31mNameError\u001b[0m                                 Traceback (most recent call last)",
      "Input \u001b[1;32mIn [6]\u001b[0m, in \u001b[0;36m<cell line: 1>\u001b[1;34m()\u001b[0m\n\u001b[1;32m----> 1\u001b[0m \u001b[43mnw\u001b[49m\n",
      "\u001b[1;31mNameError\u001b[0m: name 'nw' is not defined"
     ]
    }
   ],
   "source": [
    "nw\n"
   ]
  },
  {
   "cell_type": "code",
   "execution_count": null,
   "id": "78582595",
   "metadata": {},
   "outputs": [],
   "source": []
  }
 ],
 "metadata": {
  "kernelspec": {
   "display_name": "Django Shell-Plus",
   "language": "python",
   "name": "django_extensions"
  },
  "language_info": {
   "codemirror_mode": {
    "name": "ipython",
    "version": 3
   },
   "file_extension": ".py",
   "mimetype": "text/x-python",
   "name": "python",
   "nbconvert_exporter": "python",
   "pygments_lexer": "ipython3",
   "version": "3.9.12"
  }
 },
 "nbformat": 4,
 "nbformat_minor": 5
}
