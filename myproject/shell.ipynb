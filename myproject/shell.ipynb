{
 "cells": [
  {
   "cell_type": "code",
   "execution_count": 5,
   "id": "90ad5aa2",
   "metadata": {},
   "outputs": [],
   "source": [
    "from django.db import models\n",
    "from application.models import Blog, Post\n"
   ]
  },
  {
   "cell_type": "code",
   "execution_count": null,
   "id": "1aa5118a",
   "metadata": {},
   "outputs": [],
   "source": []
  },
  {
   "cell_type": "code",
   "execution_count": 8,
   "id": "7849c51a",
   "metadata": {},
   "outputs": [],
   "source": [
    "blog = Blog.objects.all()"
   ]
  },
  {
   "cell_type": "code",
   "execution_count": 6,
   "id": "e6d10748",
   "metadata": {},
   "outputs": [
    {
     "data": {
      "text/plain": [
       "<QuerySet [<Blog: Article>, <Blog: Article2>, <Blog: Article3>]>"
      ]
     },
     "execution_count": 6,
     "metadata": {},
     "output_type": "execute_result"
    }
   ],
   "source": [
    "blog\n"
   ]
  },
  {
   "cell_type": "code",
   "execution_count": 8,
   "id": "2dc38376",
   "metadata": {},
   "outputs": [],
   "source": [
    "main_order = Blog.objects.filter().order_by(\"name\")\n"
   ]
  },
  {
   "cell_type": "markdown",
   "id": "1e163093",
   "metadata": {},
   "source": [
    "\n"
   ]
  },
  {
   "cell_type": "code",
   "execution_count": 9,
   "id": "291b0690",
   "metadata": {},
   "outputs": [
    {
     "data": {
      "text/plain": [
       "<QuerySet [<Blog: Article>, <Blog: Article2>, <Blog: Article3>]>"
      ]
     },
     "execution_count": 9,
     "metadata": {},
     "output_type": "execute_result"
    }
   ],
   "source": [
    "main_order\n"
   ]
  },
  {
   "cell_type": "markdown",
   "id": "6933e5f4",
   "metadata": {},
   "source": [
    "\n"
   ]
  },
  {
   "cell_type": "code",
   "execution_count": null,
   "id": "c2210cb2",
   "metadata": {},
   "outputs": [],
   "source": []
  },
  {
   "cell_type": "code",
   "execution_count": null,
   "id": "6090f8ca",
   "metadata": {},
   "outputs": [],
   "source": []
  },
  {
   "cell_type": "code",
   "execution_count": null,
   "id": "dd42c99d",
   "metadata": {},
   "outputs": [],
   "source": []
  }
 ],
 "metadata": {
  "kernelspec": {
   "display_name": "Django Shell-Plus",
   "language": "python",
   "name": "django_extensions"
  },
  "language_info": {
   "codemirror_mode": {
    "name": "ipython",
    "version": 3
   },
   "file_extension": ".py",
   "mimetype": "text/x-python",
   "name": "python",
   "nbconvert_exporter": "python",
   "pygments_lexer": "ipython3",
   "version": "3.8.3"
  }
 },
 "nbformat": 4,
 "nbformat_minor": 5
}
